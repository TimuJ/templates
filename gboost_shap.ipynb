{
 "cells": [
  {
   "cell_type": "code",
   "execution_count": 1,
   "id": "56ecacf7",
   "metadata": {},
   "outputs": [
    {
     "ename": "NameError",
     "evalue": "name 'X' is not defined",
     "output_type": "error",
     "traceback": [
      "\u001b[0;31m---------------------------------------------------------------------------\u001b[0m",
      "\u001b[0;31mNameError\u001b[0m                                 Traceback (most recent call last)",
      "\u001b[0;32m/tmp/ipykernel_10708/130964696.py\u001b[0m in \u001b[0;36m<module>\u001b[0;34m\u001b[0m\n\u001b[1;32m     21\u001b[0m     \u001b[0msort_values\u001b[0m\u001b[0;34m(\u001b[0m\u001b[0mby\u001b[0m\u001b[0;34m=\u001b[0m\u001b[0;34m'importance'\u001b[0m\u001b[0;34m,\u001b[0m \u001b[0mascending\u001b[0m\u001b[0;34m=\u001b[0m\u001b[0;32mFalse\u001b[0m\u001b[0;34m)\u001b[0m\u001b[0;34m\u001b[0m\u001b[0;34m\u001b[0m\u001b[0m\n\u001b[1;32m     22\u001b[0m \u001b[0;34m\u001b[0m\u001b[0m\n\u001b[0;32m---> 23\u001b[0;31m \u001b[0mdf_feats_imp\u001b[0m \u001b[0;34m=\u001b[0m \u001b[0mplot_importance\u001b[0m\u001b[0;34m(\u001b[0m\u001b[0mX\u001b[0m\u001b[0;34m,\u001b[0m \u001b[0moptuna_clfs\u001b[0m\u001b[0;34m,\u001b[0m \u001b[0;36m0.20\u001b[0m\u001b[0;34m,\u001b[0m \u001b[0mtop_n\u001b[0m\u001b[0;34m=\u001b[0m\u001b[0;36m70\u001b[0m\u001b[0;34m)\u001b[0m\u001b[0;34m\u001b[0m\u001b[0;34m\u001b[0m\u001b[0m\n\u001b[0m",
      "\u001b[0;31mNameError\u001b[0m: name 'X' is not defined"
     ]
    }
   ],
   "source": [
    "def plot_importance(df, best_model, height, top_n=50):\n",
    "    \n",
    "    fi = pd.DataFrame(index = df.columns, columns = [])\n",
    "    for i, m in enumerate(best_model):\n",
    "        fi[f'm_{i}'] = m.get_feature_importance()\n",
    "\n",
    "    fi = fi.stack().reset_index().iloc[:,[0, 2]]#.to_frame()\n",
    "    fi.columns = ['feature','importance']\n",
    "\n",
    "    cols_ord = list(fi.groupby('feature')['importance'].mean().sort_values(ascending=False).index)\n",
    "    print('Всего признаков', len(cols_ord), 'Усреднее по {}-ти моделям: '.format(len(best_model)) )\n",
    "    cols_ord = cols_ord[:top_n]\n",
    "    \n",
    "    fi = fi[fi['feature'].isin(cols_ord)]\n",
    "    \n",
    "    plt.figure(figsize=(10, len(cols_ord)*height))\n",
    "    b = sns.boxplot(data=fi, y='feature', x='importance', orient='h', order=cols_ord)\n",
    "    \n",
    "    print('На график нанесено топ-{} признаков'.format(top_n))\n",
    "    return fi.groupby(by =['feature'], as_index=False)['importance'].mean().\\\n",
    "    sort_values(by='importance', ascending=False)\n",
    "\n",
    "df_feats_imp = plot_importance(X, optuna_clfs, 0.20, top_n=70)"
   ]
  }
 ],
 "metadata": {
  "kernelspec": {
   "display_name": "Python 3 (ipykernel)",
   "language": "python",
   "name": "python3"
  },
  "language_info": {
   "codemirror_mode": {
    "name": "ipython",
    "version": 3
   },
   "file_extension": ".py",
   "mimetype": "text/x-python",
   "name": "python",
   "nbconvert_exporter": "python",
   "pygments_lexer": "ipython3",
   "version": "3.8.10"
  }
 },
 "nbformat": 4,
 "nbformat_minor": 5
}

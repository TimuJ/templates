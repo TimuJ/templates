{
 "cells": [
  {
   "cell_type": "code",
   "execution_count": 94,
   "id": "a4e27b88",
   "metadata": {},
   "outputs": [],
   "source": [
    "import json\n",
    "import joblib\n",
    "import numpy as np\n",
    "import pandas as pd\n",
    "\n",
    "from sklearn.model_selection import train_test_split\n",
    "from sklearn.linear_model import LogisticRegressionCV\n",
    "from sklearn.feature_extraction.text import TfidfVectorizer"
   ]
  },
  {
   "cell_type": "code",
   "execution_count": 77,
   "id": "1b2e12b8",
   "metadata": {},
   "outputs": [],
   "source": [
    "# loading json file to pandas\n",
    "with open('Architectural Lessons From Environmental Psychology The Case of Biophilic Architecture.json') as json_file:\n",
    "    json_data = json.load(json_file)\n",
    "    article = pd.json_normalize(json_data, record_path=['label'])"
   ]
  },
  {
   "cell_type": "code",
   "execution_count": 78,
   "id": "5156e269",
   "metadata": {},
   "outputs": [],
   "source": [
    "article['labels'] = article['labels'].astype('str').str.replace(\"['\",\"\", regex=False)\n",
    "article['labels'] = article['labels'].astype('str').str.replace(\"']\",\"\", regex=False)"
   ]
  },
  {
   "cell_type": "code",
   "execution_count": 79,
   "id": "d4d7fa7a",
   "metadata": {},
   "outputs": [],
   "source": [
    "X = article.text\n",
    "y = article.labels"
   ]
  },
  {
   "cell_type": "code",
   "execution_count": 80,
   "id": "3f1a249b",
   "metadata": {},
   "outputs": [],
   "source": [
    "vectorizer = TfidfVectorizer()"
   ]
  },
  {
   "cell_type": "code",
   "execution_count": 81,
   "id": "8a6f77a1",
   "metadata": {},
   "outputs": [],
   "source": [
    "X_vectorized = vectorizer.fit_transform(X)"
   ]
  },
  {
   "cell_type": "code",
   "execution_count": 93,
   "id": "cbb07bd9",
   "metadata": {},
   "outputs": [],
   "source": [
    "model = LogisticRegressionCV(cv=5, max_iter=1000).fit(X_vectorized, y)"
   ]
  },
  {
   "cell_type": "code",
   "execution_count": 95,
   "id": "04c2b59b",
   "metadata": {},
   "outputs": [
    {
     "data": {
      "text/plain": [
       "['./model.joblib']"
      ]
     },
     "execution_count": 95,
     "metadata": {},
     "output_type": "execute_result"
    }
   ],
   "source": [
    "joblib.dump(model, \"./model.joblib\")"
   ]
  },
  {
   "cell_type": "code",
   "execution_count": 119,
   "id": "c780a82e",
   "metadata": {},
   "outputs": [
    {
     "data": {
      "text/plain": [
       "0      A growing number of academics are involved in ...\n",
       "1      In addition to providing a detailed account of...\n",
       "2      This is necessary because the arguments presen...\n",
       "3      For example, on a theoretical level, it would ...\n",
       "4      Another more practical issue is the question o...\n",
       "                             ...                        \n",
       "858    However, opportunities for contact with these ...\n",
       "859     It is argued how this evolution can have subt...\n",
       "860    However, opportunities for contact with these ...\n",
       "861     It is argued how this evolution can have subt...\n",
       "862    These can be countered by integrating key feat...\n",
       "Name: text, Length: 863, dtype: object"
      ]
     },
     "execution_count": 119,
     "metadata": {},
     "output_type": "execute_result"
    }
   ],
   "source": [
    "X"
   ]
  },
  {
   "cell_type": "code",
   "execution_count": 104,
   "id": "25318d06",
   "metadata": {},
   "outputs": [],
   "source": []
  },
  {
   "cell_type": "code",
   "execution_count": 120,
   "id": "b2b255ee",
   "metadata": {},
   "outputs": [],
   "source": [
    "random_text = ['These can be countered by integrating key']"
   ]
  },
  {
   "cell_type": "code",
   "execution_count": 121,
   "id": "08c0c38f",
   "metadata": {},
   "outputs": [],
   "source": [
    "random_text_vectorized = vectorizer.transform(random_text)"
   ]
  },
  {
   "cell_type": "code",
   "execution_count": 122,
   "id": "28970cd0",
   "metadata": {},
   "outputs": [],
   "source": [
    "prediction = model.predict(random_text_vectorized)"
   ]
  },
  {
   "cell_type": "code",
   "execution_count": 123,
   "id": "9fcc4a61",
   "metadata": {},
   "outputs": [
    {
     "data": {
      "text/plain": [
       "array(['Psychology'], dtype=object)"
      ]
     },
     "execution_count": 123,
     "metadata": {},
     "output_type": "execute_result"
    }
   ],
   "source": [
    "prediction"
   ]
  },
  {
   "cell_type": "code",
   "execution_count": null,
   "id": "d4d382dd",
   "metadata": {},
   "outputs": [],
   "source": []
  },
  {
   "cell_type": "code",
   "execution_count": 127,
   "id": "d1eb4a5b",
   "metadata": {},
   "outputs": [
    {
     "data": {
      "text/plain": [
       "'1.3.2'"
      ]
     },
     "execution_count": 127,
     "metadata": {},
     "output_type": "execute_result"
    }
   ],
   "source": [
    "pd.__version__"
   ]
  },
  {
   "cell_type": "code",
   "execution_count": 128,
   "id": "e80a006f",
   "metadata": {},
   "outputs": [
    {
     "data": {
      "text/plain": [
       "0      A growing number of academics are involved in ...\n",
       "1      In addition to providing a detailed account of...\n",
       "2      This is necessary because the arguments presen...\n",
       "3      For example, on a theoretical level, it would ...\n",
       "4      Another more practical issue is the question o...\n",
       "                             ...                        \n",
       "858    However, opportunities for contact with these ...\n",
       "859     It is argued how this evolution can have subt...\n",
       "860    However, opportunities for contact with these ...\n",
       "861     It is argued how this evolution can have subt...\n",
       "862    These can be countered by integrating key feat...\n",
       "Name: text, Length: 863, dtype: object"
      ]
     },
     "execution_count": 128,
     "metadata": {},
     "output_type": "execute_result"
    }
   ],
   "source": [
    "pd.read_pickle('tfidf.pkl')"
   ]
  }
 ],
 "metadata": {
  "kernelspec": {
   "display_name": "Python 3 (ipykernel)",
   "language": "python",
   "name": "python3"
  },
  "language_info": {
   "codemirror_mode": {
    "name": "ipython",
    "version": 3
   },
   "file_extension": ".py",
   "mimetype": "text/x-python",
   "name": "python",
   "nbconvert_exporter": "python",
   "pygments_lexer": "ipython3",
   "version": "3.8.10"
  }
 },
 "nbformat": 4,
 "nbformat_minor": 5
}

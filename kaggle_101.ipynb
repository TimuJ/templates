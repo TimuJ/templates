{
 "cells": [
  {
   "cell_type": "code",
   "execution_count": 2,
   "id": "1a40f656",
   "metadata": {},
   "outputs": [
    {
     "ename": "SyntaxError",
     "evalue": "invalid syntax (3526699591.py, line 4)",
     "output_type": "error",
     "traceback": [
      "\u001b[0;36m  File \u001b[0;32m\"/tmp/ipykernel_33582/3526699591.py\"\u001b[0;36m, line \u001b[0;32m4\u001b[0m\n\u001b[0;31m    np.random.seed(seed)     torch.manual_seed(seed)\u001b[0m\n\u001b[0m                             ^\u001b[0m\n\u001b[0;31mSyntaxError\u001b[0m\u001b[0;31m:\u001b[0m invalid syntax\n"
     ]
    }
   ],
   "source": [
    "# Pytorch and numpy\n",
    "\n",
    "def seed_everything(seed = 19):\n",
    "     random.seed(seed)\n",
    "     os.environ['PYTHONHASHSEED'] = str(seed)\n",
    "     np.random.seed(seed)\n",
    "        torch.manual_seed(seed)\n",
    "     torch.cuda.manual_seed(seed)\n",
    "     torch.backends.cudnn.deterministic = True\n"
   ]
  },
  {
   "cell_type": "code",
   "execution_count": null,
   "id": "86ab1674",
   "metadata": {},
   "outputs": [],
   "source": [
    "# submission file\n",
    "\n",
    "def submission_file(test_pred, pred_name = 'another_boost_model'):\n",
    "    return pd.Series(test_pred, name=\"dep_delayed_15min\").to_csv(\n",
    "    pred_name, index_label=\"id\", header=True)"
   ]
  },
  {
   "cell_type": "code",
   "execution_count": null,
   "id": "204cf8e1",
   "metadata": {},
   "outputs": [],
   "source": [
    "! kaggle competitions download -c flight-delays-spring-2018\n"
   ]
  },
  {
   "cell_type": "code",
   "execution_count": null,
   "id": "12fd6dec",
   "metadata": {},
   "outputs": [],
   "source": [
    "file_name = \"flight-delays-spring-2018.zip\""
   ]
  },
  {
   "cell_type": "code",
   "execution_count": null,
   "id": "fbb5534c",
   "metadata": {},
   "outputs": [],
   "source": [
    "with ZipFile(file_name, 'r') as zip:\n",
    "    zip.printdir()\n",
    "    zip.extractall()"
   ]
  },
  {
   "cell_type": "code",
   "execution_count": null,
   "id": "daabea7e",
   "metadata": {},
   "outputs": [],
   "source": [
    "X_full = pd.concat((X_train, X_test))\n",
    "train_split = X_train.shape[0]\n",
    "X_train, X_test = X_full.iloc[:train_split], X_full.iloc[train_split:]"
   ]
  }
 ],
 "metadata": {
  "kernelspec": {
   "display_name": "Python 3 (ipykernel)",
   "language": "python",
   "name": "python3"
  },
  "language_info": {
   "codemirror_mode": {
    "name": "ipython",
    "version": 3
   },
   "file_extension": ".py",
   "mimetype": "text/x-python",
   "name": "python",
   "nbconvert_exporter": "python",
   "pygments_lexer": "ipython3",
   "version": "3.8.10"
  }
 },
 "nbformat": 4,
 "nbformat_minor": 5
}
